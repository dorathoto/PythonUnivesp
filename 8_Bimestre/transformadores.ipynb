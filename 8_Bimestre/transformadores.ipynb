{
 "cells": [
  {
   "cell_type": "code",
   "execution_count": 1,
   "metadata": {},
   "outputs": [],
   "source": [
    "from math import *"
   ]
  },
  {
   "cell_type": "markdown",
   "metadata": {},
   "source": [
    "# Transformador ideal"
   ]
  },
  {
   "cell_type": "markdown",
   "metadata": {},
   "source": [
    "Um **transfomador ideal** é um modelo que não existe na realidade. \n",
    "\n",
    "Assumimos as seguintes premisas como sendo verdadeiras:\n",
    "\n",
    "* Os enrolamentos não possuem resistência elétrica\n",
    "* O núcleo do transformador não tem perdas por dispersão, efeito Joule, ou magnéticas."
   ]
  },
  {
   "cell_type": "markdown",
   "metadata": {},
   "source": [
    "<img src=\"trafo_ideal.gif\">"
   ]
  },
  {
   "cell_type": "markdown",
   "metadata": {},
   "source": [
    "A classe `TrafoIdeal` modeliza um transformador ideal a partir de alguns parámetros como:\n",
    "    \n",
    "* Número de espiras no enrolamento primário\n",
    "* Número de espiras no enrolamento secundário\n",
    "* Tensão na fonte\n",
    "* Resistência da carga no secundário"
   ]
  },
  {
   "cell_type": "code",
   "execution_count": 2,
   "metadata": {},
   "outputs": [],
   "source": [
    "class TrafoIdeal:\n",
    "    def __init__(self, n1, n2, v1, z):\n",
    "        self.n1 = n1\n",
    "        self.n2 = n2\n",
    "        self.v1 = v1\n",
    "        self.z = z\n",
    "    \n",
    "    @property\n",
    "    def alfa(self):\n",
    "        return self.n1 / self.n2\n",
    "    \n",
    "    @property\n",
    "    def zlinha(self):\n",
    "        return self.z * self.alfa**2\n",
    "    \n",
    "    @property\n",
    "    def v2(self):\n",
    "        return self.v1 / self.alfa\n",
    "    \n",
    "    @property\n",
    "    def i1(self):\n",
    "        return self.v1 / self.zlinha\n",
    "    \n",
    "    @property\n",
    "    def i2(self):\n",
    "        return self.i1 * self.alfa\n",
    "    \n",
    "    @property\n",
    "    def pot_ap(self):\n",
    "        return self.v1 * self.i1\n",
    "    \n",
    "    def __str__(self):\n",
    "        return (\n",
    "            f'Relação de transformação (N1/N2): {self.alfa:.2f}\\n'\n",
    "            f'Tensão no primário: {self.v1:.2f} V\\n'\n",
    "            f'Tensão no secundário: {self.v2:.2f} V\\n'\n",
    "            f'Carga no secundário: {self.z:.2f} \\u03A9\\n'\n",
    "            f'Carga refletida no primário: {self.zlinha:.2f} \\u03A9\\n'\n",
    "            f'Corrente no primário: {self.i1:.2f} A\\n'\n",
    "            f'Corrente no secundário: {self.i2:.2f} A\\n'\n",
    "            f'Potência aparente: {self.pot_ap:.2f} VA\\n'\n",
    "        )"
   ]
  },
  {
   "cell_type": "markdown",
   "metadata": {},
   "source": [
    "A classe `TrafoIdeal` recebe como parámetros: número de espiras no enrolamento primário, número de espiras no enrolamento secundário, tensão na fonte e resistência da carga no secundário."
   ]
  },
  {
   "cell_type": "code",
   "execution_count": 3,
   "metadata": {},
   "outputs": [],
   "source": [
    "trafo = TrafoIdeal(200, 20, 127, 5)"
   ]
  },
  {
   "cell_type": "code",
   "execution_count": 4,
   "metadata": {},
   "outputs": [
    {
     "name": "stdout",
     "output_type": "stream",
     "text": [
      "Relação de transformação (N1/N2): 10.00\n",
      "Tensão no primário: 127.00 V\n",
      "Tensão no secundário: 12.70 V\n",
      "Carga no secundário: 5.00 Ω\n",
      "Carga refletida no primário: 500.00 Ω\n",
      "Corrente no primário: 0.25 A\n",
      "Corrente no secundário: 2.54 A\n",
      "Potência aparente: 32.26 VA\n",
      "\n"
     ]
    }
   ],
   "source": [
    "print(trafo)"
   ]
  }
 ],
 "metadata": {
  "kernelspec": {
   "display_name": "Python 3",
   "language": "python",
   "name": "python3"
  },
  "language_info": {
   "codemirror_mode": {
    "name": "ipython",
    "version": 3
   },
   "file_extension": ".py",
   "mimetype": "text/x-python",
   "name": "python",
   "nbconvert_exporter": "python",
   "pygments_lexer": "ipython3",
   "version": "3.7.3"
  }
 },
 "nbformat": 4,
 "nbformat_minor": 2
}
